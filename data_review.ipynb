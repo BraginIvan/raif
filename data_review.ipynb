{
 "cells": [
  {
   "cell_type": "code",
   "execution_count": 2,
   "id": "b349bea6",
   "metadata": {},
   "outputs": [],
   "source": [
    "import pandas as pd"
   ]
  },
  {
   "cell_type": "code",
   "execution_count": 3,
   "id": "898d1eb1",
   "metadata": {},
   "outputs": [
    {
     "name": "stderr",
     "output_type": "stream",
     "text": [
      "/Users/ivan.bragin/projects/raif/venv/lib/python3.6/site-packages/IPython/core/interactiveshell.py:3072: DtypeWarning: Columns (1) have mixed types.Specify dtype option on import or set low_memory=False.\n",
      "  interactivity=interactivity, compiler=compiler, result=result)\n"
     ]
    }
   ],
   "source": [
    "dataset_train = pd.read_csv(\"dataset/train.csv\")"
   ]
  },
  {
   "cell_type": "code",
   "execution_count": 4,
   "id": "047e8894",
   "metadata": {},
   "outputs": [
    {
     "data": {
      "text/plain": [
       "0    275299\n",
       "1      4493\n",
       "Name: price_type, dtype: int64"
      ]
     },
     "execution_count": 4,
     "metadata": {},
     "output_type": "execute_result"
    }
   ],
   "source": [
    "dataset_train.price_type.value_counts()"
   ]
  },
  {
   "cell_type": "code",
   "execution_count": 5,
   "id": "2d833c9b",
   "metadata": {},
   "outputs": [
    {
     "data": {
      "text/plain": [
       "2020-06-14    11047\n",
       "2020-06-07    11003\n",
       "2020-01-12    10678\n",
       "2020-01-19    10628\n",
       "2020-07-26    10565\n",
       "2020-02-23    10182\n",
       "2020-01-26     9919\n",
       "2020-02-09     9849\n",
       "2020-08-23     9780\n",
       "2020-05-24     9467\n",
       "2020-03-08     9427\n",
       "2020-06-21     9238\n",
       "2020-07-12     8858\n",
       "2020-07-19     8741\n",
       "2020-02-16     8590\n",
       "2020-08-16     8471\n",
       "2020-03-01     8261\n",
       "2020-02-02     8028\n",
       "2020-07-05     7981\n",
       "2020-05-17     7931\n",
       "2020-06-28     7780\n",
       "2020-08-09     7593\n",
       "2020-04-12     7537\n",
       "2020-03-15     7416\n",
       "2020-03-22     6971\n",
       "2020-08-02     6939\n",
       "2020-04-26     6871\n",
       "2020-04-19     6868\n",
       "2020-04-05     6424\n",
       "2020-05-31     6369\n",
       "2020-05-10     5796\n",
       "2020-03-29     5553\n",
       "2020-05-03     5375\n",
       "2020-01-05     3656\n",
       "Name: date, dtype: int64"
      ]
     },
     "execution_count": 5,
     "metadata": {},
     "output_type": "execute_result"
    }
   ],
   "source": [
    "dataset_train.date.value_counts()"
   ]
  },
  {
   "cell_type": "markdown",
   "id": "1e4e4d99",
   "metadata": {},
   "source": [
    "##### dataset_test = pd.read_csv(\"dataset/test.csv\")"
   ]
  },
  {
   "cell_type": "code",
   "execution_count": 6,
   "id": "80f24f03",
   "metadata": {},
   "outputs": [
    {
     "ename": "NameError",
     "evalue": "name 'dataset_test' is not defined",
     "output_type": "error",
     "traceback": [
      "\u001b[0;31m---------------------------------------------------------------------------\u001b[0m",
      "\u001b[0;31mNameError\u001b[0m                                 Traceback (most recent call last)",
      "\u001b[0;32m<ipython-input-6-8de2d57c9284>\u001b[0m in \u001b[0;36m<module>\u001b[0;34m\u001b[0m\n\u001b[0;32m----> 1\u001b[0;31m \u001b[0mdataset_test\u001b[0m\u001b[0;34m.\u001b[0m\u001b[0mdate\u001b[0m\u001b[0;34m.\u001b[0m\u001b[0mvalue_counts\u001b[0m\u001b[0;34m(\u001b[0m\u001b[0;34m)\u001b[0m\u001b[0;34m\u001b[0m\u001b[0;34m\u001b[0m\u001b[0m\n\u001b[0m",
      "\u001b[0;31mNameError\u001b[0m: name 'dataset_test' is not defined"
     ]
    }
   ],
   "source": [
    "dataset_test.date.value_counts()"
   ]
  },
  {
   "cell_type": "code",
   "execution_count": null,
   "id": "bfe29188",
   "metadata": {},
   "outputs": [],
   "source": [
    "dataset_train.price_type.value_counts()"
   ]
  },
  {
   "cell_type": "code",
   "execution_count": 7,
   "id": "b96c75b4",
   "metadata": {},
   "outputs": [
    {
     "data": {
      "text/plain": [
       "Москва             55996\n",
       "Санкт-Петербург    18906\n",
       "Краснодар          13009\n",
       "Екатеринбург        8580\n",
       "Новосибирск         6753\n",
       "Челябинск           6201\n",
       "Самара              6147\n",
       "Казань              6033\n",
       "Тюмень              5861\n",
       "Уфа                 4931\n",
       "Name: city, dtype: int64"
      ]
     },
     "execution_count": 7,
     "metadata": {},
     "output_type": "execute_result"
    }
   ],
   "source": [
    "dataset_train.city.value_counts()[:10]"
   ]
  },
  {
   "cell_type": "code",
   "execution_count": 8,
   "id": "c86c362d",
   "metadata": {},
   "outputs": [
    {
     "ename": "NameError",
     "evalue": "name 'dataset_test' is not defined",
     "output_type": "error",
     "traceback": [
      "\u001b[0;31m---------------------------------------------------------------------------\u001b[0m",
      "\u001b[0;31mNameError\u001b[0m                                 Traceback (most recent call last)",
      "\u001b[0;32m<ipython-input-8-715051cb0ee5>\u001b[0m in \u001b[0;36m<module>\u001b[0;34m\u001b[0m\n\u001b[0;32m----> 1\u001b[0;31m \u001b[0mlen\u001b[0m\u001b[0;34m(\u001b[0m\u001b[0mdataset_train\u001b[0m\u001b[0;34m.\u001b[0m\u001b[0mcity\u001b[0m\u001b[0;34m.\u001b[0m\u001b[0mvalue_counts\u001b[0m\u001b[0;34m(\u001b[0m\u001b[0;34m)\u001b[0m\u001b[0;34m)\u001b[0m\u001b[0;34m,\u001b[0m \u001b[0mlen\u001b[0m\u001b[0;34m(\u001b[0m\u001b[0mdataset_test\u001b[0m\u001b[0;34m.\u001b[0m\u001b[0mcity\u001b[0m\u001b[0;34m.\u001b[0m\u001b[0mvalue_counts\u001b[0m\u001b[0;34m(\u001b[0m\u001b[0;34m)\u001b[0m\u001b[0;34m)\u001b[0m\u001b[0;34m\u001b[0m\u001b[0;34m\u001b[0m\u001b[0m\n\u001b[0m",
      "\u001b[0;31mNameError\u001b[0m: name 'dataset_test' is not defined"
     ]
    }
   ],
   "source": [
    "len(dataset_train.city.value_counts()), len(dataset_test.city.value_counts())"
   ]
  },
  {
   "cell_type": "code",
   "execution_count": 9,
   "id": "736cb41c",
   "metadata": {},
   "outputs": [
    {
     "data": {
      "text/html": [
       "<div>\n",
       "<style scoped>\n",
       "    .dataframe tbody tr th:only-of-type {\n",
       "        vertical-align: middle;\n",
       "    }\n",
       "\n",
       "    .dataframe tbody tr th {\n",
       "        vertical-align: top;\n",
       "    }\n",
       "\n",
       "    .dataframe thead th {\n",
       "        text-align: right;\n",
       "    }\n",
       "</style>\n",
       "<table border=\"1\" class=\"dataframe\">\n",
       "  <thead>\n",
       "    <tr style=\"text-align: right;\">\n",
       "      <th></th>\n",
       "      <th>city</th>\n",
       "      <th>floor</th>\n",
       "      <th>id</th>\n",
       "      <th>lat</th>\n",
       "      <th>lng</th>\n",
       "      <th>osm_amenity_points_in_0.001</th>\n",
       "      <th>osm_amenity_points_in_0.005</th>\n",
       "      <th>osm_amenity_points_in_0.0075</th>\n",
       "      <th>osm_amenity_points_in_0.01</th>\n",
       "      <th>osm_building_points_in_0.001</th>\n",
       "      <th>...</th>\n",
       "      <th>reform_mean_floor_count_1000</th>\n",
       "      <th>reform_mean_floor_count_500</th>\n",
       "      <th>reform_mean_year_building_1000</th>\n",
       "      <th>reform_mean_year_building_500</th>\n",
       "      <th>region</th>\n",
       "      <th>total_square</th>\n",
       "      <th>street</th>\n",
       "      <th>date</th>\n",
       "      <th>realty_type</th>\n",
       "      <th>price_type</th>\n",
       "    </tr>\n",
       "  </thead>\n",
       "  <tbody>\n",
       "    <tr>\n",
       "      <th>0</th>\n",
       "      <td>Пермь</td>\n",
       "      <td>NaN</td>\n",
       "      <td>COL_0</td>\n",
       "      <td>57.998207</td>\n",
       "      <td>56.292797</td>\n",
       "      <td>4</td>\n",
       "      <td>19</td>\n",
       "      <td>35</td>\n",
       "      <td>52</td>\n",
       "      <td>0</td>\n",
       "      <td>...</td>\n",
       "      <td>5.762963</td>\n",
       "      <td>5.530612</td>\n",
       "      <td>1964.118519</td>\n",
       "      <td>1960.959184</td>\n",
       "      <td>Пермский край</td>\n",
       "      <td>32.0</td>\n",
       "      <td>S27289</td>\n",
       "      <td>2020-01-05</td>\n",
       "      <td>10</td>\n",
       "      <td>0</td>\n",
       "    </tr>\n",
       "    <tr>\n",
       "      <th>1</th>\n",
       "      <td>Шатура</td>\n",
       "      <td>NaN</td>\n",
       "      <td>COL_1</td>\n",
       "      <td>55.574284</td>\n",
       "      <td>39.543835</td>\n",
       "      <td>3</td>\n",
       "      <td>24</td>\n",
       "      <td>37</td>\n",
       "      <td>59</td>\n",
       "      <td>0</td>\n",
       "      <td>...</td>\n",
       "      <td>2.894366</td>\n",
       "      <td>3.527778</td>\n",
       "      <td>1952.321678</td>\n",
       "      <td>1957.222222</td>\n",
       "      <td>Московская область</td>\n",
       "      <td>280.0</td>\n",
       "      <td>S17052</td>\n",
       "      <td>2020-01-05</td>\n",
       "      <td>10</td>\n",
       "      <td>0</td>\n",
       "    </tr>\n",
       "    <tr>\n",
       "      <th>2</th>\n",
       "      <td>Ярославль</td>\n",
       "      <td>NaN</td>\n",
       "      <td>COL_2</td>\n",
       "      <td>57.619140</td>\n",
       "      <td>39.850525</td>\n",
       "      <td>1</td>\n",
       "      <td>30</td>\n",
       "      <td>67</td>\n",
       "      <td>128</td>\n",
       "      <td>0</td>\n",
       "      <td>...</td>\n",
       "      <td>6.141414</td>\n",
       "      <td>7.222222</td>\n",
       "      <td>1968.150000</td>\n",
       "      <td>1973.370370</td>\n",
       "      <td>Ярославская область</td>\n",
       "      <td>297.4</td>\n",
       "      <td>S16913</td>\n",
       "      <td>2020-01-05</td>\n",
       "      <td>110</td>\n",
       "      <td>0</td>\n",
       "    </tr>\n",
       "    <tr>\n",
       "      <th>3</th>\n",
       "      <td>Новокузнецк</td>\n",
       "      <td>NaN</td>\n",
       "      <td>COL_3</td>\n",
       "      <td>53.897083</td>\n",
       "      <td>87.108604</td>\n",
       "      <td>0</td>\n",
       "      <td>0</td>\n",
       "      <td>5</td>\n",
       "      <td>21</td>\n",
       "      <td>0</td>\n",
       "      <td>...</td>\n",
       "      <td>8.581081</td>\n",
       "      <td>9.000000</td>\n",
       "      <td>1992.716216</td>\n",
       "      <td>2014.000000</td>\n",
       "      <td>Кемеровская область</td>\n",
       "      <td>190.0</td>\n",
       "      <td>S10148</td>\n",
       "      <td>2020-01-05</td>\n",
       "      <td>110</td>\n",
       "      <td>0</td>\n",
       "    </tr>\n",
       "    <tr>\n",
       "      <th>4</th>\n",
       "      <td>Москва</td>\n",
       "      <td>NaN</td>\n",
       "      <td>COL_4</td>\n",
       "      <td>55.802590</td>\n",
       "      <td>37.487110</td>\n",
       "      <td>1</td>\n",
       "      <td>23</td>\n",
       "      <td>64</td>\n",
       "      <td>153</td>\n",
       "      <td>0</td>\n",
       "      <td>...</td>\n",
       "      <td>7.263889</td>\n",
       "      <td>5.684211</td>\n",
       "      <td>1963.229167</td>\n",
       "      <td>1960.500000</td>\n",
       "      <td>Москва</td>\n",
       "      <td>60.2</td>\n",
       "      <td>S1338</td>\n",
       "      <td>2020-01-05</td>\n",
       "      <td>10</td>\n",
       "      <td>0</td>\n",
       "    </tr>\n",
       "  </tbody>\n",
       "</table>\n",
       "<p>5 rows × 77 columns</p>\n",
       "</div>"
      ],
      "text/plain": [
       "          city floor     id        lat        lng  \\\n",
       "0        Пермь   NaN  COL_0  57.998207  56.292797   \n",
       "1       Шатура   NaN  COL_1  55.574284  39.543835   \n",
       "2    Ярославль   NaN  COL_2  57.619140  39.850525   \n",
       "3  Новокузнецк   NaN  COL_3  53.897083  87.108604   \n",
       "4       Москва   NaN  COL_4  55.802590  37.487110   \n",
       "\n",
       "   osm_amenity_points_in_0.001  osm_amenity_points_in_0.005  \\\n",
       "0                            4                           19   \n",
       "1                            3                           24   \n",
       "2                            1                           30   \n",
       "3                            0                            0   \n",
       "4                            1                           23   \n",
       "\n",
       "   osm_amenity_points_in_0.0075  osm_amenity_points_in_0.01  \\\n",
       "0                            35                          52   \n",
       "1                            37                          59   \n",
       "2                            67                         128   \n",
       "3                             5                          21   \n",
       "4                            64                         153   \n",
       "\n",
       "   osm_building_points_in_0.001  ...  reform_mean_floor_count_1000  \\\n",
       "0                             0  ...                      5.762963   \n",
       "1                             0  ...                      2.894366   \n",
       "2                             0  ...                      6.141414   \n",
       "3                             0  ...                      8.581081   \n",
       "4                             0  ...                      7.263889   \n",
       "\n",
       "   reform_mean_floor_count_500  reform_mean_year_building_1000  \\\n",
       "0                     5.530612                     1964.118519   \n",
       "1                     3.527778                     1952.321678   \n",
       "2                     7.222222                     1968.150000   \n",
       "3                     9.000000                     1992.716216   \n",
       "4                     5.684211                     1963.229167   \n",
       "\n",
       "   reform_mean_year_building_500               region  total_square  street  \\\n",
       "0                    1960.959184        Пермский край          32.0  S27289   \n",
       "1                    1957.222222   Московская область         280.0  S17052   \n",
       "2                    1973.370370  Ярославская область         297.4  S16913   \n",
       "3                    2014.000000  Кемеровская область         190.0  S10148   \n",
       "4                    1960.500000               Москва          60.2   S1338   \n",
       "\n",
       "         date realty_type  price_type  \n",
       "0  2020-01-05          10           0  \n",
       "1  2020-01-05          10           0  \n",
       "2  2020-01-05         110           0  \n",
       "3  2020-01-05         110           0  \n",
       "4  2020-01-05          10           0  \n",
       "\n",
       "[5 rows x 77 columns]"
      ]
     },
     "execution_count": 9,
     "metadata": {},
     "output_type": "execute_result"
    }
   ],
   "source": [
    "dataset_train.head()"
   ]
  },
  {
   "cell_type": "code",
   "execution_count": 10,
   "id": "409f4315",
   "metadata": {},
   "outputs": [
    {
     "data": {
      "text/plain": [
       "Index(['city', 'floor', 'id', 'lat', 'lng', 'osm_amenity_points_in_0.001',\n",
       "       'osm_amenity_points_in_0.005', 'osm_amenity_points_in_0.0075',\n",
       "       'osm_amenity_points_in_0.01', 'osm_building_points_in_0.001',\n",
       "       'osm_building_points_in_0.005', 'osm_building_points_in_0.0075',\n",
       "       'osm_building_points_in_0.01', 'osm_catering_points_in_0.001',\n",
       "       'osm_catering_points_in_0.005', 'osm_catering_points_in_0.0075',\n",
       "       'osm_catering_points_in_0.01', 'osm_city_closest_dist',\n",
       "       'osm_city_nearest_name', 'osm_city_nearest_population',\n",
       "       'osm_crossing_closest_dist', 'osm_crossing_points_in_0.001',\n",
       "       'osm_crossing_points_in_0.005', 'osm_crossing_points_in_0.0075',\n",
       "       'osm_crossing_points_in_0.01', 'osm_culture_points_in_0.001',\n",
       "       'osm_culture_points_in_0.005', 'osm_culture_points_in_0.0075',\n",
       "       'osm_culture_points_in_0.01', 'osm_finance_points_in_0.001',\n",
       "       'osm_finance_points_in_0.005', 'osm_finance_points_in_0.0075',\n",
       "       'osm_finance_points_in_0.01', 'osm_healthcare_points_in_0.005',\n",
       "       'osm_healthcare_points_in_0.0075', 'osm_healthcare_points_in_0.01',\n",
       "       'osm_historic_points_in_0.005', 'osm_historic_points_in_0.0075',\n",
       "       'osm_historic_points_in_0.01', 'osm_hotels_points_in_0.005',\n",
       "       'osm_hotels_points_in_0.0075', 'osm_hotels_points_in_0.01',\n",
       "       'osm_leisure_points_in_0.005', 'osm_leisure_points_in_0.0075',\n",
       "       'osm_leisure_points_in_0.01', 'osm_offices_points_in_0.001',\n",
       "       'osm_offices_points_in_0.005', 'osm_offices_points_in_0.0075',\n",
       "       'osm_offices_points_in_0.01', 'osm_shops_points_in_0.001',\n",
       "       'osm_shops_points_in_0.005', 'osm_shops_points_in_0.0075',\n",
       "       'osm_shops_points_in_0.01', 'osm_subway_closest_dist',\n",
       "       'osm_train_stop_closest_dist', 'osm_train_stop_points_in_0.005',\n",
       "       'osm_train_stop_points_in_0.0075', 'osm_train_stop_points_in_0.01',\n",
       "       'osm_transport_stop_closest_dist', 'osm_transport_stop_points_in_0.005',\n",
       "       'osm_transport_stop_points_in_0.0075',\n",
       "       'osm_transport_stop_points_in_0.01', 'per_square_meter_price',\n",
       "       'reform_count_of_houses_1000', 'reform_count_of_houses_500',\n",
       "       'reform_house_population_1000', 'reform_house_population_500',\n",
       "       'reform_mean_floor_count_1000', 'reform_mean_floor_count_500',\n",
       "       'reform_mean_year_building_1000', 'reform_mean_year_building_500',\n",
       "       'region', 'total_square', 'street', 'date', 'realty_type',\n",
       "       'price_type'],\n",
       "      dtype='object')"
      ]
     },
     "execution_count": 10,
     "metadata": {},
     "output_type": "execute_result"
    }
   ],
   "source": [
    "dataset_train.columns"
   ]
  },
  {
   "cell_type": "code",
   "execution_count": 11,
   "id": "f7a4b357",
   "metadata": {},
   "outputs": [
    {
     "data": {
      "text/plain": [
       "1963.207547    898\n",
       "2000.000000    656\n",
       "2015.000000    612\n",
       "2016.000000    452\n",
       "2017.714286    440\n",
       "              ... \n",
       "1970.450000      1\n",
       "1923.595819      1\n",
       "1966.539474      1\n",
       "1965.575163      1\n",
       "1966.734694      1\n",
       "Name: reform_mean_year_building_1000, Length: 76044, dtype: int64"
      ]
     },
     "execution_count": 11,
     "metadata": {},
     "output_type": "execute_result"
    }
   ],
   "source": [
    "dataset_train.reform_mean_year_building_1000.value_counts()"
   ]
  },
  {
   "cell_type": "code",
   "execution_count": null,
   "id": "2c74746b",
   "metadata": {},
   "outputs": [],
   "source": []
  }
 ],
 "metadata": {
  "kernelspec": {
   "display_name": "Python 3",
   "language": "python",
   "name": "python3"
  },
  "language_info": {
   "codemirror_mode": {
    "name": "ipython",
    "version": 3
   },
   "file_extension": ".py",
   "mimetype": "text/x-python",
   "name": "python",
   "nbconvert_exporter": "python",
   "pygments_lexer": "ipython3",
   "version": "3.6.7"
  }
 },
 "nbformat": 4,
 "nbformat_minor": 5
}
