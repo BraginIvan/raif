{
 "cells": [
  {
   "cell_type": "code",
   "execution_count": 1,
   "id": "c22aac33",
   "metadata": {},
   "outputs": [],
   "source": [
    "%load_ext autoreload\n",
    "%autoreload 2\n",
    "from indices import MainDataset\n",
    "from neighbors import Neighborhoods\n",
    "import functions\n",
    "import numpy as np\n",
    "import pandas as pd\n",
    "from sklearn.model_selection import train_test_split\n",
    "from catboost import CatBoostRegressor\n",
    "from catboost import Pool\n",
    "from metric import metrics_stat"
   ]
  },
  {
   "cell_type": "code",
   "execution_count": 1,
   "id": "8629af5d",
   "metadata": {},
   "outputs": [
    {
     "ename": "ModuleNotFoundError",
     "evalue": "No module named 'lightgbm'",
     "output_type": "error",
     "traceback": [
      "\u001b[0;31m---------------------------------------------------------------------------\u001b[0m",
      "\u001b[0;31mModuleNotFoundError\u001b[0m                       Traceback (most recent call last)",
      "\u001b[0;32m<ipython-input-1-b18b3f8a6dc8>\u001b[0m in \u001b[0;36m<module>\u001b[0;34m\u001b[0m\n\u001b[0;32m----> 1\u001b[0;31m \u001b[0;32mimport\u001b[0m \u001b[0mlightgbm\u001b[0m\u001b[0;34m\u001b[0m\u001b[0;34m\u001b[0m\u001b[0m\n\u001b[0m",
      "\u001b[0;31mModuleNotFoundError\u001b[0m: No module named 'lightgbm'"
     ]
    }
   ],
   "source": [
    "import lightgbm"
   ]
  },
  {
   "cell_type": "code",
   "execution_count": 2,
   "id": "5104b417",
   "metadata": {
    "scrolled": true
   },
   "outputs": [
    {
     "name": "stderr",
     "output_type": "stream",
     "text": [
      "/Users/ivan.bragin/projects/raif/venv/lib/python3.6/site-packages/IPython/core/interactiveshell.py:3263: DtypeWarning: Columns (1) have mixed types.Specify dtype option on import or set low_memory=False.\n",
      "  if (await self.run_code(code, result,  async_=asy)):\n"
     ]
    }
   ],
   "source": [
    "train_dataset = MainDataset(\"dataset/train.csv\")\n",
    "test_dataset = MainDataset(\"dataset/test.csv\", need_index = False)"
   ]
  },
  {
   "cell_type": "code",
   "execution_count": 3,
   "id": "f31990c8",
   "metadata": {},
   "outputs": [],
   "source": [
    "neighborhoods = Neighborhoods(train_dataset.index)\n",
    "neighborhoods1 = Neighborhoods(train_dataset.index1)"
   ]
  },
  {
   "cell_type": "code",
   "execution_count": 4,
   "id": "17a6cad1",
   "metadata": {
    "scrolled": true
   },
   "outputs": [],
   "source": [
    "# for i, o in enumerate(train_dataset.all_objects[:10000]):\n",
    "#     if i % 1000 == 0:\n",
    "#         print(i)\n",
    "#     neighbor = neighborhoods.get_haversine_closest(o, 7)\n",
    "#     for f_name, f in functions.items():\n",
    "#         prices = [f(o, x[0], x[1]) for x in neighbor]\n",
    "#         o.neighbors_scores[f_name] = np.mean(prices)"
   ]
  },
  {
   "cell_type": "code",
   "execution_count": 5,
   "id": "6603622d",
   "metadata": {},
   "outputs": [
    {
     "name": "stdout",
     "output_type": "stream",
     "text": [
      "253000\n",
      "254000\n",
      "255000\n",
      "256000\n",
      "253000\n",
      "254000\n",
      "255000\n",
      "256000\n"
     ]
    }
   ],
   "source": [
    "for prefix, neighborhoods_item in [(\"\", neighborhoods), (\"P1_\", neighborhoods1)]:\n",
    "    for i, o in enumerate(train_dataset.all_objects):\n",
    "#         o.neighbors_scores = {}\n",
    "        if o.row[\"price_type\"] != 1:\n",
    "            continue\n",
    "        if i % 1000 == 0:\n",
    "            print(i)\n",
    "        neighbor = neighborhoods_item.get_haversine_closest(o, 7)\n",
    "        for f_name, f in functions.functions.items():\n",
    "            prices = [f(o, x[0], x[1]) for x in neighbor]\n",
    "            prices = [x for x in prices if x > 0]\n",
    "            if len(prices) > 0:\n",
    "                price_median = np.median(prices)\n",
    "                price_max = np.max(prices)\n",
    "                price_min = np.min(prices)\n",
    "\n",
    "            else:\n",
    "                price_median = 0\n",
    "                price_max = 0\n",
    "                price_min = 0\n",
    "            o.neighbors_scores[prefix + f_name+\"_median\"] = price_median\n",
    "            o.neighbors_scores[prefix + f_name+\"_max\"] = price_max\n",
    "            o.neighbors_scores[prefix + f_name+\"_min\"] = price_min\n",
    "    "
   ]
  },
  {
   "cell_type": "code",
   "execution_count": 6,
   "id": "512084ae",
   "metadata": {},
   "outputs": [
    {
     "name": "stdout",
     "output_type": "stream",
     "text": [
      "0\n",
      "1000\n",
      "2000\n",
      "0\n",
      "1000\n",
      "2000\n"
     ]
    }
   ],
   "source": [
    "for prefix, neighborhoods_item in [(\"\", neighborhoods), (\"P1_\", neighborhoods1)]:\n",
    "    for i, o in enumerate(test_dataset.all_objects):\n",
    "        if o.row[\"price_type\"] != 1:\n",
    "            continue\n",
    "        if i % 1000 == 0:\n",
    "            print(i)\n",
    "        neighbor = neighborhoods_item.get_haversine_closest(o, 7)\n",
    "        for f_name, f in functions.functions.items():\n",
    "            prices = [f(o, x[0], x[1]) for x in neighbor]\n",
    "            prices = [x for x in prices if x > 0]\n",
    "            if len(prices) > 0:\n",
    "                price_median = np.median(prices)\n",
    "                price_max = np.max(prices)\n",
    "                price_min = np.min(prices)\n",
    "\n",
    "            else:\n",
    "                price_median = 0\n",
    "                price_max = 0\n",
    "                price_min = 0\n",
    "            o.neighbors_scores[prefix + f_name+\"_median\"] = price_median\n",
    "            o.neighbors_scores[prefix + f_name+\"_max\"] = price_max\n",
    "            o.neighbors_scores[prefix + f_name+\"_min\"] = price_min"
   ]
  },
  {
   "cell_type": "code",
   "execution_count": 7,
   "id": "a73fade5",
   "metadata": {},
   "outputs": [],
   "source": [
    "raw_dense_features = [\n",
    "#     'osm_historic_points_in_0.005',\n",
    "#     'osm_culture_points_in_0.0075',\n",
    "        'osm_amenity_points_in_0.001',\n",
    "       'osm_amenity_points_in_0.005', 'osm_amenity_points_in_0.0075',\n",
    "       'osm_amenity_points_in_0.01', 'osm_building_points_in_0.001',\n",
    "       'osm_building_points_in_0.005', 'osm_building_points_in_0.0075',\n",
    "       'osm_building_points_in_0.01', 'osm_catering_points_in_0.001',\n",
    "       'osm_catering_points_in_0.005', 'osm_catering_points_in_0.0075',\n",
    "       'osm_catering_points_in_0.01', 'osm_city_closest_dist',\n",
    "        'osm_city_nearest_population',\n",
    "       'osm_crossing_closest_dist', 'osm_crossing_points_in_0.001',\n",
    "       'osm_crossing_points_in_0.005', 'osm_crossing_points_in_0.0075',\n",
    "       'osm_crossing_points_in_0.01', 'osm_culture_points_in_0.001',\n",
    "       'osm_culture_points_in_0.005', \n",
    "       'osm_culture_points_in_0.01', 'osm_finance_points_in_0.001',\n",
    "       'osm_finance_points_in_0.005', 'osm_finance_points_in_0.0075',\n",
    "       'osm_finance_points_in_0.01', 'osm_healthcare_points_in_0.005',\n",
    "       'osm_healthcare_points_in_0.0075', 'osm_healthcare_points_in_0.01',\n",
    "        'osm_historic_points_in_0.0075',\n",
    "       'osm_historic_points_in_0.01', 'osm_hotels_points_in_0.005',\n",
    "       'osm_hotels_points_in_0.0075', 'osm_hotels_points_in_0.01',\n",
    "       'osm_leisure_points_in_0.005', 'osm_leisure_points_in_0.0075',\n",
    "       'osm_leisure_points_in_0.01', 'osm_offices_points_in_0.001',\n",
    "       'osm_offices_points_in_0.005', 'osm_offices_points_in_0.0075',\n",
    "       'osm_offices_points_in_0.01', 'osm_shops_points_in_0.001',\n",
    "       'osm_shops_points_in_0.005', 'osm_shops_points_in_0.0075',\n",
    "       'osm_shops_points_in_0.01', 'osm_subway_closest_dist',\n",
    "       'osm_train_stop_closest_dist', 'osm_train_stop_points_in_0.005',\n",
    "       'osm_train_stop_points_in_0.0075', 'osm_train_stop_points_in_0.01',\n",
    "       'osm_transport_stop_closest_dist', 'osm_transport_stop_points_in_0.005',\n",
    "       'osm_transport_stop_points_in_0.0075',\n",
    "       'osm_transport_stop_points_in_0.01',\n",
    "                      'reform_count_of_houses_1000', 'reform_count_of_houses_500',\n",
    "       'reform_house_population_1000', 'reform_house_population_500',\n",
    "       'reform_mean_floor_count_1000', 'reform_mean_floor_count_500',\n",
    "       'reform_mean_year_building_1000', 'reform_mean_year_building_500',\n",
    "       'total_square', \"lat\", \"lng\"\n",
    "       ]\n",
    "\n",
    "raw_cat_features = ['city', 'osm_city_nearest_name', 'region', 'realty_type', 'street', 'floor']\n",
    "\n",
    "bad_f = set([\"F_square_False_min\", \"F_square_False_median\"])\n",
    "def getX(o):\n",
    "    x = []\n",
    "    for f_name, score in o.neighbors_scores.items():\n",
    "        if f_name not in bad_f and \"P1_kk\" not in f_name:\n",
    "            x.append(score)\n",
    "    for n in raw_dense_features:\n",
    "        x.append(o.row[n])\n",
    "    for n in raw_cat_features:\n",
    "        x.append(o.row[n])\n",
    "    return pd.Series(x)\n"
   ]
  },
  {
   "cell_type": "code",
   "execution_count": 8,
   "id": "82d5a710",
   "metadata": {},
   "outputs": [],
   "source": [
    "columns = []\n",
    "for p in [\"\",\n",
    "          \"P1_\"\n",
    "         ]:\n",
    "    for t in [\"_median\", \"_min\", \"_max\"]:\n",
    "        columns.extend([p + f_name + t for f_name, f in functions.functions.items() ])\n",
    "columns = [c for c in columns if c not in bad_f]\n",
    "    # columns = []\n",
    "columns.extend(raw_dense_features)\n",
    "columns.extend(raw_cat_features)"
   ]
  },
  {
   "cell_type": "code",
   "execution_count": 9,
   "id": "7b2c68ab",
   "metadata": {},
   "outputs": [],
   "source": [
    "# X0 = [getX(o) for o in train_dataset.all_objects[:1] if o.row[\"price_type\"] == 0]\n",
    "# X0 = pd.concat(X0, axis=1).T\n",
    "# X0.columns=columns\n",
    "# Y0 = [o.getY() for o in train_dataset.all_objects if o.row[\"price_type\"] == 0]\n",
    "# X0[\"floor\"] = X0[\"floor\"].astype(\"str\")"
   ]
  },
  {
   "cell_type": "code",
   "execution_count": 10,
   "id": "b28b2f7a",
   "metadata": {},
   "outputs": [],
   "source": [
    "X1 = [getX(o) for o in train_dataset.all_objects if o.row[\"price_type\"] == 1]\n",
    "X1 = pd.concat(X1, axis=1).T\n",
    "X1.columns=columns\n",
    "Y1 = [o.getY() for o in train_dataset.all_objects if o.row[\"price_type\"] == 1]\n",
    "X1 = X1.fillna(-999)\n"
   ]
  },
  {
   "cell_type": "code",
   "execution_count": 11,
   "id": "b50cbfc4",
   "metadata": {},
   "outputs": [],
   "source": [
    "Xtest1 = [getX(o) for o in test_dataset.all_objects]\n",
    "Xtest1 = pd.concat(Xtest1, axis=1).T\n",
    "Xtest1.columns=columns\n",
    "Xtest1 = Xtest1.fillna(-999)"
   ]
  },
  {
   "cell_type": "code",
   "execution_count": 49,
   "id": "51a08523",
   "metadata": {},
   "outputs": [],
   "source": [
    "# X0 = X0.fillna(-999)\n",
    "X_train, X_val, Y_train, Y_val = train_test_split(X1, Y1, test_size=0.1, random_state=42)"
   ]
  },
  {
   "cell_type": "code",
   "execution_count": 13,
   "id": "2f60560e",
   "metadata": {},
   "outputs": [
    {
     "ename": "ModuleNotFoundError",
     "evalue": "No module named 'keras'",
     "output_type": "error",
     "traceback": [
      "\u001b[0;31m---------------------------------------------------------------------------\u001b[0m",
      "\u001b[0;31mModuleNotFoundError\u001b[0m                       Traceback (most recent call last)",
      "\u001b[0;32m<ipython-input-13-82b0fc01eb8a>\u001b[0m in \u001b[0;36m<module>\u001b[0;34m\u001b[0m\n\u001b[0;32m----> 1\u001b[0;31m \u001b[0;32mimport\u001b[0m \u001b[0mkeras\u001b[0m\u001b[0;34m.\u001b[0m\u001b[0mbackend\u001b[0m \u001b[0;32mas\u001b[0m \u001b[0mK\u001b[0m\u001b[0;34m\u001b[0m\u001b[0;34m\u001b[0m\u001b[0m\n\u001b[0m\u001b[1;32m      2\u001b[0m \u001b[0;34m\u001b[0m\u001b[0m\n\u001b[1;32m      3\u001b[0m \u001b[0;32mdef\u001b[0m \u001b[0mcustom_mse\u001b[0m\u001b[0;34m(\u001b[0m\u001b[0my_true\u001b[0m\u001b[0;34m,\u001b[0m \u001b[0my_pred\u001b[0m\u001b[0;34m)\u001b[0m\u001b[0;34m:\u001b[0m\u001b[0;34m\u001b[0m\u001b[0;34m\u001b[0m\u001b[0m\n\u001b[1;32m      4\u001b[0m \u001b[0;34m\u001b[0m\u001b[0m\n\u001b[1;32m      5\u001b[0m     \u001b[0;31m# calculating squared difference between target and predicted values\u001b[0m\u001b[0;34m\u001b[0m\u001b[0;34m\u001b[0m\u001b[0;34m\u001b[0m\u001b[0m\n",
      "\u001b[0;31mModuleNotFoundError\u001b[0m: No module named 'keras'"
     ]
    }
   ],
   "source": [
    "import keras.backend as K\n",
    "\n",
    "def custom_mse(y_true, y_pred):\n",
    " \n",
    "    # calculating squared difference between target and predicted values \n",
    "    loss = K.square(y_pred - y_true)  # (batch_size, 2)\n",
    "    \n",
    "    # multiplying the values with weights along batch dimension\n",
    "    loss = loss * [0.3, 0.7]          # (batch_size, 2)\n",
    "                \n",
    "    # summing both loss values along batch dimension \n",
    "    loss = K.sum(loss, axis=1)        # (batch_size,)\n",
    "    \n",
    "    return loss"
   ]
  },
  {
   "cell_type": "code",
   "execution_count": null,
   "id": "04e305ac",
   "metadata": {},
   "outputs": [],
   "source": [
    "def get_input_output(m, s, event_len, mask=True):\n",
    "    i = L.Input(event_len)\n",
    "    o = L.Embedding(m+1, s, input_length=event_len, mask_zero=mask)(i)\n",
    "    return i, o\n",
    "\n",
    "def get_model():\n",
    "\n",
    "    \n",
    "    # 3. числовые фичи как в xgboost\n",
    "    dense_input = L.Input(len(dense_features))\n",
    "    x = L.Dense(128, activation=\"relu\")(dense_input)\n",
    "    \n",
    "    # объединяем и классифицируем\n",
    "    x = L.Concatenate()([x,svd,svd1,svd2,svd3,L.Flatten()(clientTypeOut),L.Flatten()(contentTypeOut)])\n",
    "    x = L.Dense(128, activation=\"relu\")(x)\n",
    "    x = L.Dense(1, activation=\"sigmoid\")(x)\n",
    "    return Model([dense_input], x)\n",
    "model = get_model()\n",
    "model.summary()"
   ]
  }
 ],
 "metadata": {
  "kernelspec": {
   "display_name": "Python 3",
   "language": "python",
   "name": "python3"
  },
  "language_info": {
   "codemirror_mode": {
    "name": "ipython",
    "version": 3
   },
   "file_extension": ".py",
   "mimetype": "text/x-python",
   "name": "python",
   "nbconvert_exporter": "python",
   "pygments_lexer": "ipython3",
   "version": "3.6.7"
  }
 },
 "nbformat": 4,
 "nbformat_minor": 5
}
